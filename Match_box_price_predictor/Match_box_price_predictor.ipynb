{
 "cells": [
  {
   "cell_type": "markdown",
   "id": "df57418a-db63-4782-9ca7-f04190141711",
   "metadata": {},
   "source": [
    "# Fire stick match box price predictor:\n",
    "\n",
    "I know what are you thinking, a very long name(Fire stick match box price predictor) for a price predictor, you can keep it short FSMB price predictor, though it still a odd name, but it is for practice purpose.\n",
    "\n",
    "## Purpose of this project:\n",
    "\n",
    " Like I mention, it is for practice purpose, which I'm doning daily to get better each day, so for that I'm doing this project for get the clear picture.\n",
    "\n",
    "### What's new with this project:\n",
    "\n",
    "As I'm doing practice daily machine learning, with it I want to challenge my self too, so for that I try to create dataset perweek, and train my ml model on my on dataset, like I already make classification model BTS_fan_predictor and after that I made other dataset which is complicated and becose of that my machine learning not performing well untill I solve the issue, I will not publish the that dataset with model, so you can say that's a secret.\n",
    "And the last not the least is FSMB(Fire stick match box) price predictor, which I have created for finding the annual expense of match box\n",
    "\n",
    "### About the Fire stick match box price predictor:\n",
    "\n",
    "Maybe some of you think, this kind of project is can be good for practice but it have no practicale use in real life.\n",
    "And you are Right and Wrong at the same time it is becouse, there are still use for this kind of project in some area, and That's True that in this modren age people hardly use match boxis and in a big city it is rear, but in the area where people don't connect with modern age tech, Let's just take the example I'm from pakistan here in my city 95% people use match box in there house this ratio might be less or more depends on you city, but application of this project will useless in the future but \" who saw it \", for that it have some use in present, specially those kind of area which I've mentiond.\n",
    "\n",
    "### Features explain in Datasets:\n",
    "\n",
    "no & month_in_year: Is useless we just need to drop both of them\n",
    "\n",
    "num_of_family_members: This feature is not directly effect the price but it is important to the other feature which going to come after this.\n",
    "\n",
    "num_of_kids_age_7_to_10: This feature is directly effect the numbers of matchs is used in one month ( you might be wondering how?, that's becouse kids are the qurious among the humnas the result of that they try to play with any thing they get there hands on, what ever the thing is, how do I know this becouse I was a kid once, tha... everyone were once), so take 4 matches a month which going to west by kids, this number can be reduced becouse of the next feature\n",
    "\n",
    "family_rule: Rule effect the number of match will be used by kids, if rule is lenience then 4, if rule is normal then 2, if rule is strict then 1.\n",
    "\n",
    "num_of_smoker_at_house: But rule feature is not applied to this feature, becouse there are fixed number of matches will be used by numbers becouse a number of cigrets they take, so I took example of casual smoker who use 4 match per month for his cigrets\n",
    "\n",
    "number_of_match_use: This feature took much time of mine then others, I have used math to calculate the feature, that's why it pains me it is kind of useless here becouse if you feed this feature to your machine learning model, it will cause issue like overfitting which is not ideal for our project, though you can try to feed this to ml model for better understanding\n",
    "\n",
    "anual_expence_of_matches: And this find outcome and our target for machine learning, but (note that actual price of 1 match box in pakistan is around 5 pkr which is in dollers is around 0.02) but when I google it, it shows the price of the\n",
    "1 fire stick match is around 1$ so it just for if you get confused about the price, that's it.\n",
    "\n",
    "THANK YOU FOR YOUR TIME."
   ]
  },
  {
   "cell_type": "code",
   "execution_count": 180,
   "id": "2eca8b7f-cc54-400f-9c39-492043e941df",
   "metadata": {},
   "outputs": [],
   "source": [
    "# imoport all the libraries which we need for this project\n",
    "import pandas as pd\n",
    "import numpy as np\n",
    "from sklearn.model_selection import train_test_split\n",
    "from sklearn.ensemble import RandomForestRegressor\n",
    "from sklearn.preprocessing import StandardScaler\n",
    "from sklearn.linear_model import LinearRegression"
   ]
  },
  {
   "cell_type": "code",
   "execution_count": 181,
   "id": "13a03791-4356-437b-917a-c1dd61ae496d",
   "metadata": {},
   "outputs": [],
   "source": [
    "df = pd.read_csv('fire_match_2.csv')"
   ]
  },
  {
   "cell_type": "code",
   "execution_count": 182,
   "id": "12a921a0-1bb1-4926-93f7-8d17402513b7",
   "metadata": {},
   "outputs": [
    {
     "data": {
      "text/html": [
       "<div>\n",
       "<style scoped>\n",
       "    .dataframe tbody tr th:only-of-type {\n",
       "        vertical-align: middle;\n",
       "    }\n",
       "\n",
       "    .dataframe tbody tr th {\n",
       "        vertical-align: top;\n",
       "    }\n",
       "\n",
       "    .dataframe thead th {\n",
       "        text-align: right;\n",
       "    }\n",
       "</style>\n",
       "<table border=\"1\" class=\"dataframe\">\n",
       "  <thead>\n",
       "    <tr style=\"text-align: right;\">\n",
       "      <th></th>\n",
       "      <th>no</th>\n",
       "      <th>num_of_family_members</th>\n",
       "      <th>num_of_kids_age_7_to_10</th>\n",
       "      <th>family_rule</th>\n",
       "      <th>num_of_smoker_at_house</th>\n",
       "      <th>number_of_match_used</th>\n",
       "      <th>anual_expence_of_matches</th>\n",
       "      <th>month_in_Year</th>\n",
       "    </tr>\n",
       "  </thead>\n",
       "  <tbody>\n",
       "    <tr>\n",
       "      <th>0</th>\n",
       "      <td>1</td>\n",
       "      <td>3</td>\n",
       "      <td>1</td>\n",
       "      <td>lenience</td>\n",
       "      <td>0</td>\n",
       "      <td>19</td>\n",
       "      <td>228</td>\n",
       "      <td>12</td>\n",
       "    </tr>\n",
       "    <tr>\n",
       "      <th>1</th>\n",
       "      <td>2</td>\n",
       "      <td>4</td>\n",
       "      <td>1</td>\n",
       "      <td>strict</td>\n",
       "      <td>0</td>\n",
       "      <td>16</td>\n",
       "      <td>192</td>\n",
       "      <td>12</td>\n",
       "    </tr>\n",
       "    <tr>\n",
       "      <th>2</th>\n",
       "      <td>3</td>\n",
       "      <td>6</td>\n",
       "      <td>2</td>\n",
       "      <td>lenience</td>\n",
       "      <td>1</td>\n",
       "      <td>27</td>\n",
       "      <td>324</td>\n",
       "      <td>12</td>\n",
       "    </tr>\n",
       "    <tr>\n",
       "      <th>3</th>\n",
       "      <td>4</td>\n",
       "      <td>7</td>\n",
       "      <td>3</td>\n",
       "      <td>normal</td>\n",
       "      <td>1</td>\n",
       "      <td>25</td>\n",
       "      <td>300</td>\n",
       "      <td>12</td>\n",
       "    </tr>\n",
       "    <tr>\n",
       "      <th>4</th>\n",
       "      <td>5</td>\n",
       "      <td>7</td>\n",
       "      <td>1</td>\n",
       "      <td>lenience</td>\n",
       "      <td>3</td>\n",
       "      <td>31</td>\n",
       "      <td>372</td>\n",
       "      <td>12</td>\n",
       "    </tr>\n",
       "  </tbody>\n",
       "</table>\n",
       "</div>"
      ],
      "text/plain": [
       "   no  num_of_family_members  num_of_kids_age_7_to_10 family_rule  \\\n",
       "0   1                      3                        1    lenience   \n",
       "1   2                      4                        1      strict   \n",
       "2   3                      6                        2    lenience   \n",
       "3   4                      7                        3      normal   \n",
       "4   5                      7                        1    lenience   \n",
       "\n",
       "   num_of_smoker_at_house  number_of_match_used  anual_expence_of_matches  \\\n",
       "0                       0                    19                       228   \n",
       "1                       0                    16                       192   \n",
       "2                       1                    27                       324   \n",
       "3                       1                    25                       300   \n",
       "4                       3                    31                       372   \n",
       "\n",
       "   month_in_Year  \n",
       "0             12  \n",
       "1             12  \n",
       "2             12  \n",
       "3             12  \n",
       "4             12  "
      ]
     },
     "execution_count": 182,
     "metadata": {},
     "output_type": "execute_result"
    }
   ],
   "source": [
    "df.head()"
   ]
  },
  {
   "cell_type": "code",
   "execution_count": 183,
   "id": "8d2f68ea-1e2f-4eb6-9629-39a6878503f7",
   "metadata": {},
   "outputs": [
    {
     "data": {
      "text/plain": [
       "(100, 8)"
      ]
     },
     "execution_count": 183,
     "metadata": {},
     "output_type": "execute_result"
    }
   ],
   "source": [
    "df.shape"
   ]
  },
  {
   "cell_type": "code",
   "execution_count": 184,
   "id": "c19da83d-ca2a-4fc9-a1b6-1bc938147cfb",
   "metadata": {},
   "outputs": [
    {
     "name": "stdout",
     "output_type": "stream",
     "text": [
      "<class 'pandas.core.frame.DataFrame'>\n",
      "RangeIndex: 100 entries, 0 to 99\n",
      "Data columns (total 8 columns):\n",
      " #   Column                    Non-Null Count  Dtype \n",
      "---  ------                    --------------  ----- \n",
      " 0   no                        100 non-null    int64 \n",
      " 1   num_of_family_members     100 non-null    int64 \n",
      " 2   num_of_kids_age_7_to_10   100 non-null    int64 \n",
      " 3   family_rule               100 non-null    object\n",
      " 4   num_of_smoker_at_house    100 non-null    int64 \n",
      " 5   number_of_match_used      100 non-null    int64 \n",
      " 6   anual_expence_of_matches  100 non-null    int64 \n",
      " 7   month_in_Year             100 non-null    int64 \n",
      "dtypes: int64(7), object(1)\n",
      "memory usage: 6.4+ KB\n"
     ]
    }
   ],
   "source": [
    "df.info()"
   ]
  },
  {
   "cell_type": "code",
   "execution_count": 185,
   "id": "ca309a23-a4f1-484e-88b7-59338ac0b043",
   "metadata": {},
   "outputs": [
    {
     "data": {
      "text/plain": [
       "no                          0\n",
       "num_of_family_members       0\n",
       "num_of_kids_age_7_to_10     0\n",
       "family_rule                 0\n",
       "num_of_smoker_at_house      0\n",
       "number_of_match_used        0\n",
       "anual_expence_of_matches    0\n",
       "month_in_Year               0\n",
       "dtype: int64"
      ]
     },
     "execution_count": 185,
     "metadata": {},
     "output_type": "execute_result"
    }
   ],
   "source": [
    "df.isnull().sum()"
   ]
  },
  {
   "cell_type": "code",
   "execution_count": 186,
   "id": "a9459f05-7f8c-48b9-a437-2b395c6f1495",
   "metadata": {},
   "outputs": [],
   "source": [
    "df.replace({'family_rule':{'lenience':0, 'normal':1, 'strict':2}}, inplace=True)"
   ]
  },
  {
   "cell_type": "code",
   "execution_count": 187,
   "id": "0b53721f-0ba2-4cb3-b141-ccc59afb4cbc",
   "metadata": {},
   "outputs": [
    {
     "data": {
      "text/html": [
       "<div>\n",
       "<style scoped>\n",
       "    .dataframe tbody tr th:only-of-type {\n",
       "        vertical-align: middle;\n",
       "    }\n",
       "\n",
       "    .dataframe tbody tr th {\n",
       "        vertical-align: top;\n",
       "    }\n",
       "\n",
       "    .dataframe thead th {\n",
       "        text-align: right;\n",
       "    }\n",
       "</style>\n",
       "<table border=\"1\" class=\"dataframe\">\n",
       "  <thead>\n",
       "    <tr style=\"text-align: right;\">\n",
       "      <th></th>\n",
       "      <th>no</th>\n",
       "      <th>num_of_family_members</th>\n",
       "      <th>num_of_kids_age_7_to_10</th>\n",
       "      <th>family_rule</th>\n",
       "      <th>num_of_smoker_at_house</th>\n",
       "      <th>number_of_match_used</th>\n",
       "      <th>anual_expence_of_matches</th>\n",
       "      <th>month_in_Year</th>\n",
       "    </tr>\n",
       "  </thead>\n",
       "  <tbody>\n",
       "    <tr>\n",
       "      <th>0</th>\n",
       "      <td>1</td>\n",
       "      <td>3</td>\n",
       "      <td>1</td>\n",
       "      <td>0</td>\n",
       "      <td>0</td>\n",
       "      <td>19</td>\n",
       "      <td>228</td>\n",
       "      <td>12</td>\n",
       "    </tr>\n",
       "    <tr>\n",
       "      <th>1</th>\n",
       "      <td>2</td>\n",
       "      <td>4</td>\n",
       "      <td>1</td>\n",
       "      <td>2</td>\n",
       "      <td>0</td>\n",
       "      <td>16</td>\n",
       "      <td>192</td>\n",
       "      <td>12</td>\n",
       "    </tr>\n",
       "    <tr>\n",
       "      <th>2</th>\n",
       "      <td>3</td>\n",
       "      <td>6</td>\n",
       "      <td>2</td>\n",
       "      <td>0</td>\n",
       "      <td>1</td>\n",
       "      <td>27</td>\n",
       "      <td>324</td>\n",
       "      <td>12</td>\n",
       "    </tr>\n",
       "    <tr>\n",
       "      <th>3</th>\n",
       "      <td>4</td>\n",
       "      <td>7</td>\n",
       "      <td>3</td>\n",
       "      <td>1</td>\n",
       "      <td>1</td>\n",
       "      <td>25</td>\n",
       "      <td>300</td>\n",
       "      <td>12</td>\n",
       "    </tr>\n",
       "    <tr>\n",
       "      <th>4</th>\n",
       "      <td>5</td>\n",
       "      <td>7</td>\n",
       "      <td>1</td>\n",
       "      <td>0</td>\n",
       "      <td>3</td>\n",
       "      <td>31</td>\n",
       "      <td>372</td>\n",
       "      <td>12</td>\n",
       "    </tr>\n",
       "  </tbody>\n",
       "</table>\n",
       "</div>"
      ],
      "text/plain": [
       "   no  num_of_family_members  num_of_kids_age_7_to_10  family_rule  \\\n",
       "0   1                      3                        1            0   \n",
       "1   2                      4                        1            2   \n",
       "2   3                      6                        2            0   \n",
       "3   4                      7                        3            1   \n",
       "4   5                      7                        1            0   \n",
       "\n",
       "   num_of_smoker_at_house  number_of_match_used  anual_expence_of_matches  \\\n",
       "0                       0                    19                       228   \n",
       "1                       0                    16                       192   \n",
       "2                       1                    27                       324   \n",
       "3                       1                    25                       300   \n",
       "4                       3                    31                       372   \n",
       "\n",
       "   month_in_Year  \n",
       "0             12  \n",
       "1             12  \n",
       "2             12  \n",
       "3             12  \n",
       "4             12  "
      ]
     },
     "execution_count": 187,
     "metadata": {},
     "output_type": "execute_result"
    }
   ],
   "source": [
    "df.head()"
   ]
  },
  {
   "cell_type": "code",
   "execution_count": 188,
   "id": "e586aa57-f182-4e3f-82a6-90561e9c7f39",
   "metadata": {},
   "outputs": [],
   "source": [
    "df.drop(columns=['no', 'month_in_Year', 'number_of_match_used'], inplace=True)"
   ]
  },
  {
   "cell_type": "code",
   "execution_count": 189,
   "id": "167a5f54-dfde-42f7-bd49-e5c68f42b796",
   "metadata": {},
   "outputs": [
    {
     "data": {
      "text/html": [
       "<div>\n",
       "<style scoped>\n",
       "    .dataframe tbody tr th:only-of-type {\n",
       "        vertical-align: middle;\n",
       "    }\n",
       "\n",
       "    .dataframe tbody tr th {\n",
       "        vertical-align: top;\n",
       "    }\n",
       "\n",
       "    .dataframe thead th {\n",
       "        text-align: right;\n",
       "    }\n",
       "</style>\n",
       "<table border=\"1\" class=\"dataframe\">\n",
       "  <thead>\n",
       "    <tr style=\"text-align: right;\">\n",
       "      <th></th>\n",
       "      <th>num_of_family_members</th>\n",
       "      <th>num_of_kids_age_7_to_10</th>\n",
       "      <th>family_rule</th>\n",
       "      <th>num_of_smoker_at_house</th>\n",
       "      <th>anual_expence_of_matches</th>\n",
       "    </tr>\n",
       "  </thead>\n",
       "  <tbody>\n",
       "    <tr>\n",
       "      <th>0</th>\n",
       "      <td>3</td>\n",
       "      <td>1</td>\n",
       "      <td>0</td>\n",
       "      <td>0</td>\n",
       "      <td>228</td>\n",
       "    </tr>\n",
       "    <tr>\n",
       "      <th>1</th>\n",
       "      <td>4</td>\n",
       "      <td>1</td>\n",
       "      <td>2</td>\n",
       "      <td>0</td>\n",
       "      <td>192</td>\n",
       "    </tr>\n",
       "    <tr>\n",
       "      <th>2</th>\n",
       "      <td>6</td>\n",
       "      <td>2</td>\n",
       "      <td>0</td>\n",
       "      <td>1</td>\n",
       "      <td>324</td>\n",
       "    </tr>\n",
       "    <tr>\n",
       "      <th>3</th>\n",
       "      <td>7</td>\n",
       "      <td>3</td>\n",
       "      <td>1</td>\n",
       "      <td>1</td>\n",
       "      <td>300</td>\n",
       "    </tr>\n",
       "    <tr>\n",
       "      <th>4</th>\n",
       "      <td>7</td>\n",
       "      <td>1</td>\n",
       "      <td>0</td>\n",
       "      <td>3</td>\n",
       "      <td>372</td>\n",
       "    </tr>\n",
       "  </tbody>\n",
       "</table>\n",
       "</div>"
      ],
      "text/plain": [
       "   num_of_family_members  num_of_kids_age_7_to_10  family_rule  \\\n",
       "0                      3                        1            0   \n",
       "1                      4                        1            2   \n",
       "2                      6                        2            0   \n",
       "3                      7                        3            1   \n",
       "4                      7                        1            0   \n",
       "\n",
       "   num_of_smoker_at_house  anual_expence_of_matches  \n",
       "0                       0                       228  \n",
       "1                       0                       192  \n",
       "2                       1                       324  \n",
       "3                       1                       300  \n",
       "4                       3                       372  "
      ]
     },
     "execution_count": 189,
     "metadata": {},
     "output_type": "execute_result"
    }
   ],
   "source": [
    "df.head()"
   ]
  },
  {
   "cell_type": "code",
   "execution_count": 190,
   "id": "c1dcf94b-9613-4d61-97a0-11276ef438d6",
   "metadata": {},
   "outputs": [
    {
     "name": "stdout",
     "output_type": "stream",
     "text": [
      "<class 'pandas.core.frame.DataFrame'>\n",
      "RangeIndex: 100 entries, 0 to 99\n",
      "Data columns (total 5 columns):\n",
      " #   Column                    Non-Null Count  Dtype\n",
      "---  ------                    --------------  -----\n",
      " 0   num_of_family_members     100 non-null    int64\n",
      " 1   num_of_kids_age_7_to_10   100 non-null    int64\n",
      " 2   family_rule               100 non-null    int64\n",
      " 3   num_of_smoker_at_house    100 non-null    int64\n",
      " 4   anual_expence_of_matches  100 non-null    int64\n",
      "dtypes: int64(5)\n",
      "memory usage: 4.0 KB\n"
     ]
    }
   ],
   "source": [
    "df.info()"
   ]
  },
  {
   "cell_type": "code",
   "execution_count": 191,
   "id": "ba8ffa24-2a7f-49e2-bf8a-380dccd87332",
   "metadata": {},
   "outputs": [
    {
     "data": {
      "text/plain": [
       "num_of_family_members       0\n",
       "num_of_kids_age_7_to_10     0\n",
       "family_rule                 0\n",
       "num_of_smoker_at_house      0\n",
       "anual_expence_of_matches    0\n",
       "dtype: int64"
      ]
     },
     "execution_count": 191,
     "metadata": {},
     "output_type": "execute_result"
    }
   ],
   "source": [
    "df.isnull().sum()"
   ]
  },
  {
   "cell_type": "code",
   "execution_count": 192,
   "id": "84c0d17a-1480-4778-9caa-a228b9157f10",
   "metadata": {},
   "outputs": [],
   "source": [
    "x = df.drop(columns='anual_expence_of_matches', axis=1)\n",
    "y = df.anual_expence_of_matches"
   ]
  },
  {
   "cell_type": "code",
   "execution_count": 193,
   "id": "e915fa22-2c3f-4a14-8b6b-9d7362d58f6c",
   "metadata": {},
   "outputs": [
    {
     "name": "stdout",
     "output_type": "stream",
     "text": [
      "    num_of_family_members  num_of_kids_age_7_to_10  family_rule  \\\n",
      "0                       3                        1            0   \n",
      "1                       4                        1            2   \n",
      "2                       6                        2            0   \n",
      "3                       7                        3            1   \n",
      "4                       7                        1            0   \n",
      "..                    ...                      ...          ...   \n",
      "95                      7                        3            2   \n",
      "96                      7                        4            1   \n",
      "97                      5                        2            2   \n",
      "98                      4                        1            0   \n",
      "99                      3                        1            0   \n",
      "\n",
      "    num_of_smoker_at_house  \n",
      "0                        0  \n",
      "1                        0  \n",
      "2                        1  \n",
      "3                        1  \n",
      "4                        3  \n",
      "..                     ...  \n",
      "95                       0  \n",
      "96                       0  \n",
      "97                       0  \n",
      "98                       1  \n",
      "99                       0  \n",
      "\n",
      "[100 rows x 4 columns]\n"
     ]
    }
   ],
   "source": [
    "print(x)"
   ]
  },
  {
   "cell_type": "code",
   "execution_count": 194,
   "id": "fc28757b-5631-462f-b8fa-5c53258e1826",
   "metadata": {},
   "outputs": [
    {
     "name": "stdout",
     "output_type": "stream",
     "text": [
      "0     228\n",
      "1     192\n",
      "2     324\n",
      "3     300\n",
      "4     372\n",
      "     ... \n",
      "95    216\n",
      "96    276\n",
      "97    204\n",
      "98    276\n",
      "99    228\n",
      "Name: anual_expence_of_matches, Length: 100, dtype: int64\n"
     ]
    }
   ],
   "source": [
    "print(y)"
   ]
  },
  {
   "cell_type": "code",
   "execution_count": 195,
   "id": "9dd65872-4927-4a2d-bfa5-a30b69eca927",
   "metadata": {},
   "outputs": [
    {
     "data": {
      "text/html": [
       "<style>#sk-container-id-27 {color: black;background-color: white;}#sk-container-id-27 pre{padding: 0;}#sk-container-id-27 div.sk-toggleable {background-color: white;}#sk-container-id-27 label.sk-toggleable__label {cursor: pointer;display: block;width: 100%;margin-bottom: 0;padding: 0.3em;box-sizing: border-box;text-align: center;}#sk-container-id-27 label.sk-toggleable__label-arrow:before {content: \"▸\";float: left;margin-right: 0.25em;color: #696969;}#sk-container-id-27 label.sk-toggleable__label-arrow:hover:before {color: black;}#sk-container-id-27 div.sk-estimator:hover label.sk-toggleable__label-arrow:before {color: black;}#sk-container-id-27 div.sk-toggleable__content {max-height: 0;max-width: 0;overflow: hidden;text-align: left;background-color: #f0f8ff;}#sk-container-id-27 div.sk-toggleable__content pre {margin: 0.2em;color: black;border-radius: 0.25em;background-color: #f0f8ff;}#sk-container-id-27 input.sk-toggleable__control:checked~div.sk-toggleable__content {max-height: 200px;max-width: 100%;overflow: auto;}#sk-container-id-27 input.sk-toggleable__control:checked~label.sk-toggleable__label-arrow:before {content: \"▾\";}#sk-container-id-27 div.sk-estimator input.sk-toggleable__control:checked~label.sk-toggleable__label {background-color: #d4ebff;}#sk-container-id-27 div.sk-label input.sk-toggleable__control:checked~label.sk-toggleable__label {background-color: #d4ebff;}#sk-container-id-27 input.sk-hidden--visually {border: 0;clip: rect(1px 1px 1px 1px);clip: rect(1px, 1px, 1px, 1px);height: 1px;margin: -1px;overflow: hidden;padding: 0;position: absolute;width: 1px;}#sk-container-id-27 div.sk-estimator {font-family: monospace;background-color: #f0f8ff;border: 1px dotted black;border-radius: 0.25em;box-sizing: border-box;margin-bottom: 0.5em;}#sk-container-id-27 div.sk-estimator:hover {background-color: #d4ebff;}#sk-container-id-27 div.sk-parallel-item::after {content: \"\";width: 100%;border-bottom: 1px solid gray;flex-grow: 1;}#sk-container-id-27 div.sk-label:hover label.sk-toggleable__label {background-color: #d4ebff;}#sk-container-id-27 div.sk-serial::before {content: \"\";position: absolute;border-left: 1px solid gray;box-sizing: border-box;top: 0;bottom: 0;left: 50%;z-index: 0;}#sk-container-id-27 div.sk-serial {display: flex;flex-direction: column;align-items: center;background-color: white;padding-right: 0.2em;padding-left: 0.2em;position: relative;}#sk-container-id-27 div.sk-item {position: relative;z-index: 1;}#sk-container-id-27 div.sk-parallel {display: flex;align-items: stretch;justify-content: center;background-color: white;position: relative;}#sk-container-id-27 div.sk-item::before, #sk-container-id-27 div.sk-parallel-item::before {content: \"\";position: absolute;border-left: 1px solid gray;box-sizing: border-box;top: 0;bottom: 0;left: 50%;z-index: -1;}#sk-container-id-27 div.sk-parallel-item {display: flex;flex-direction: column;z-index: 1;position: relative;background-color: white;}#sk-container-id-27 div.sk-parallel-item:first-child::after {align-self: flex-end;width: 50%;}#sk-container-id-27 div.sk-parallel-item:last-child::after {align-self: flex-start;width: 50%;}#sk-container-id-27 div.sk-parallel-item:only-child::after {width: 0;}#sk-container-id-27 div.sk-dashed-wrapped {border: 1px dashed gray;margin: 0 0.4em 0.5em 0.4em;box-sizing: border-box;padding-bottom: 0.4em;background-color: white;}#sk-container-id-27 div.sk-label label {font-family: monospace;font-weight: bold;display: inline-block;line-height: 1.2em;}#sk-container-id-27 div.sk-label-container {text-align: center;}#sk-container-id-27 div.sk-container {/* jupyter's `normalize.less` sets `[hidden] { display: none; }` but bootstrap.min.css set `[hidden] { display: none !important; }` so we also need the `!important` here to be able to override the default hidden behavior on the sphinx rendered scikit-learn.org. See: https://github.com/scikit-learn/scikit-learn/issues/21755 */display: inline-block !important;position: relative;}#sk-container-id-27 div.sk-text-repr-fallback {display: none;}</style><div id=\"sk-container-id-27\" class=\"sk-top-container\"><div class=\"sk-text-repr-fallback\"><pre>StandardScaler()</pre><b>In a Jupyter environment, please rerun this cell to show the HTML representation or trust the notebook. <br />On GitHub, the HTML representation is unable to render, please try loading this page with nbviewer.org.</b></div><div class=\"sk-container\" hidden><div class=\"sk-item\"><div class=\"sk-estimator sk-toggleable\"><input class=\"sk-toggleable__control sk-hidden--visually\" id=\"sk-estimator-id-27\" type=\"checkbox\" checked><label for=\"sk-estimator-id-27\" class=\"sk-toggleable__label sk-toggleable__label-arrow\">StandardScaler</label><div class=\"sk-toggleable__content\"><pre>StandardScaler()</pre></div></div></div></div></div>"
      ],
      "text/plain": [
       "StandardScaler()"
      ]
     },
     "execution_count": 195,
     "metadata": {},
     "output_type": "execute_result"
    }
   ],
   "source": [
    "scaler = StandardScaler()\n",
    "scaler.fit(x)"
   ]
  },
  {
   "cell_type": "code",
   "execution_count": 196,
   "id": "2fb686cf-7f60-4594-8f58-c1c37d1893b6",
   "metadata": {},
   "outputs": [],
   "source": [
    "std_scaler = scaler.transform(x)"
   ]
  },
  {
   "cell_type": "code",
   "execution_count": 197,
   "id": "25505f68-698a-4fc5-b16b-0e45d8698822",
   "metadata": {},
   "outputs": [],
   "source": [
    "x = std_scaler\n",
    "y = df.anual_expence_of_matches"
   ]
  },
  {
   "cell_type": "code",
   "execution_count": 198,
   "id": "4f0940a5-63e8-47fb-b1ed-555c463377ed",
   "metadata": {},
   "outputs": [
    {
     "name": "stdout",
     "output_type": "stream",
     "text": [
      "(100, 4) (80, 4) (20, 4)\n"
     ]
    }
   ],
   "source": [
    "x_train, x_test, y_train, y_test = train_test_split(x, y, test_size=0.2, random_state=42) \n",
    "print(x.shape, x_train.shape, x_test.shape)"
   ]
  },
  {
   "cell_type": "code",
   "execution_count": 199,
   "id": "aba91223-d662-4e0a-846e-66a0c25ebff9",
   "metadata": {},
   "outputs": [
    {
     "data": {
      "text/html": [
       "<style>#sk-container-id-28 {color: black;background-color: white;}#sk-container-id-28 pre{padding: 0;}#sk-container-id-28 div.sk-toggleable {background-color: white;}#sk-container-id-28 label.sk-toggleable__label {cursor: pointer;display: block;width: 100%;margin-bottom: 0;padding: 0.3em;box-sizing: border-box;text-align: center;}#sk-container-id-28 label.sk-toggleable__label-arrow:before {content: \"▸\";float: left;margin-right: 0.25em;color: #696969;}#sk-container-id-28 label.sk-toggleable__label-arrow:hover:before {color: black;}#sk-container-id-28 div.sk-estimator:hover label.sk-toggleable__label-arrow:before {color: black;}#sk-container-id-28 div.sk-toggleable__content {max-height: 0;max-width: 0;overflow: hidden;text-align: left;background-color: #f0f8ff;}#sk-container-id-28 div.sk-toggleable__content pre {margin: 0.2em;color: black;border-radius: 0.25em;background-color: #f0f8ff;}#sk-container-id-28 input.sk-toggleable__control:checked~div.sk-toggleable__content {max-height: 200px;max-width: 100%;overflow: auto;}#sk-container-id-28 input.sk-toggleable__control:checked~label.sk-toggleable__label-arrow:before {content: \"▾\";}#sk-container-id-28 div.sk-estimator input.sk-toggleable__control:checked~label.sk-toggleable__label {background-color: #d4ebff;}#sk-container-id-28 div.sk-label input.sk-toggleable__control:checked~label.sk-toggleable__label {background-color: #d4ebff;}#sk-container-id-28 input.sk-hidden--visually {border: 0;clip: rect(1px 1px 1px 1px);clip: rect(1px, 1px, 1px, 1px);height: 1px;margin: -1px;overflow: hidden;padding: 0;position: absolute;width: 1px;}#sk-container-id-28 div.sk-estimator {font-family: monospace;background-color: #f0f8ff;border: 1px dotted black;border-radius: 0.25em;box-sizing: border-box;margin-bottom: 0.5em;}#sk-container-id-28 div.sk-estimator:hover {background-color: #d4ebff;}#sk-container-id-28 div.sk-parallel-item::after {content: \"\";width: 100%;border-bottom: 1px solid gray;flex-grow: 1;}#sk-container-id-28 div.sk-label:hover label.sk-toggleable__label {background-color: #d4ebff;}#sk-container-id-28 div.sk-serial::before {content: \"\";position: absolute;border-left: 1px solid gray;box-sizing: border-box;top: 0;bottom: 0;left: 50%;z-index: 0;}#sk-container-id-28 div.sk-serial {display: flex;flex-direction: column;align-items: center;background-color: white;padding-right: 0.2em;padding-left: 0.2em;position: relative;}#sk-container-id-28 div.sk-item {position: relative;z-index: 1;}#sk-container-id-28 div.sk-parallel {display: flex;align-items: stretch;justify-content: center;background-color: white;position: relative;}#sk-container-id-28 div.sk-item::before, #sk-container-id-28 div.sk-parallel-item::before {content: \"\";position: absolute;border-left: 1px solid gray;box-sizing: border-box;top: 0;bottom: 0;left: 50%;z-index: -1;}#sk-container-id-28 div.sk-parallel-item {display: flex;flex-direction: column;z-index: 1;position: relative;background-color: white;}#sk-container-id-28 div.sk-parallel-item:first-child::after {align-self: flex-end;width: 50%;}#sk-container-id-28 div.sk-parallel-item:last-child::after {align-self: flex-start;width: 50%;}#sk-container-id-28 div.sk-parallel-item:only-child::after {width: 0;}#sk-container-id-28 div.sk-dashed-wrapped {border: 1px dashed gray;margin: 0 0.4em 0.5em 0.4em;box-sizing: border-box;padding-bottom: 0.4em;background-color: white;}#sk-container-id-28 div.sk-label label {font-family: monospace;font-weight: bold;display: inline-block;line-height: 1.2em;}#sk-container-id-28 div.sk-label-container {text-align: center;}#sk-container-id-28 div.sk-container {/* jupyter's `normalize.less` sets `[hidden] { display: none; }` but bootstrap.min.css set `[hidden] { display: none !important; }` so we also need the `!important` here to be able to override the default hidden behavior on the sphinx rendered scikit-learn.org. See: https://github.com/scikit-learn/scikit-learn/issues/21755 */display: inline-block !important;position: relative;}#sk-container-id-28 div.sk-text-repr-fallback {display: none;}</style><div id=\"sk-container-id-28\" class=\"sk-top-container\"><div class=\"sk-text-repr-fallback\"><pre>LinearRegression()</pre><b>In a Jupyter environment, please rerun this cell to show the HTML representation or trust the notebook. <br />On GitHub, the HTML representation is unable to render, please try loading this page with nbviewer.org.</b></div><div class=\"sk-container\" hidden><div class=\"sk-item\"><div class=\"sk-estimator sk-toggleable\"><input class=\"sk-toggleable__control sk-hidden--visually\" id=\"sk-estimator-id-28\" type=\"checkbox\" checked><label for=\"sk-estimator-id-28\" class=\"sk-toggleable__label sk-toggleable__label-arrow\">LinearRegression</label><div class=\"sk-toggleable__content\"><pre>LinearRegression()</pre></div></div></div></div></div>"
      ],
      "text/plain": [
       "LinearRegression()"
      ]
     },
     "execution_count": 199,
     "metadata": {},
     "output_type": "execute_result"
    }
   ],
   "source": [
    "model = LinearRegression()\n",
    "model.fit(x_train, y_train)"
   ]
  },
  {
   "cell_type": "code",
   "execution_count": 200,
   "id": "8de1e5e0-a359-4406-9370-ca4525621dab",
   "metadata": {},
   "outputs": [
    {
     "name": "stdout",
     "output_type": "stream",
     "text": [
      "The score for training: 0.948111817131565\n",
      "The score for training: 0.9541600325842676\n"
     ]
    }
   ],
   "source": [
    "for_traing = model.score(x_train, y_train)\n",
    "for_testing = model.score(x_test, y_test)\n",
    "print('The score for training:', for_traing)\n",
    "print('The score for training:', for_testing)"
   ]
  },
  {
   "cell_type": "code",
   "execution_count": 201,
   "id": "7ce828fd-f5c7-4531-a3a1-f49195bfda5c",
   "metadata": {},
   "outputs": [
    {
     "data": {
      "text/html": [
       "<style>#sk-container-id-29 {color: black;background-color: white;}#sk-container-id-29 pre{padding: 0;}#sk-container-id-29 div.sk-toggleable {background-color: white;}#sk-container-id-29 label.sk-toggleable__label {cursor: pointer;display: block;width: 100%;margin-bottom: 0;padding: 0.3em;box-sizing: border-box;text-align: center;}#sk-container-id-29 label.sk-toggleable__label-arrow:before {content: \"▸\";float: left;margin-right: 0.25em;color: #696969;}#sk-container-id-29 label.sk-toggleable__label-arrow:hover:before {color: black;}#sk-container-id-29 div.sk-estimator:hover label.sk-toggleable__label-arrow:before {color: black;}#sk-container-id-29 div.sk-toggleable__content {max-height: 0;max-width: 0;overflow: hidden;text-align: left;background-color: #f0f8ff;}#sk-container-id-29 div.sk-toggleable__content pre {margin: 0.2em;color: black;border-radius: 0.25em;background-color: #f0f8ff;}#sk-container-id-29 input.sk-toggleable__control:checked~div.sk-toggleable__content {max-height: 200px;max-width: 100%;overflow: auto;}#sk-container-id-29 input.sk-toggleable__control:checked~label.sk-toggleable__label-arrow:before {content: \"▾\";}#sk-container-id-29 div.sk-estimator input.sk-toggleable__control:checked~label.sk-toggleable__label {background-color: #d4ebff;}#sk-container-id-29 div.sk-label input.sk-toggleable__control:checked~label.sk-toggleable__label {background-color: #d4ebff;}#sk-container-id-29 input.sk-hidden--visually {border: 0;clip: rect(1px 1px 1px 1px);clip: rect(1px, 1px, 1px, 1px);height: 1px;margin: -1px;overflow: hidden;padding: 0;position: absolute;width: 1px;}#sk-container-id-29 div.sk-estimator {font-family: monospace;background-color: #f0f8ff;border: 1px dotted black;border-radius: 0.25em;box-sizing: border-box;margin-bottom: 0.5em;}#sk-container-id-29 div.sk-estimator:hover {background-color: #d4ebff;}#sk-container-id-29 div.sk-parallel-item::after {content: \"\";width: 100%;border-bottom: 1px solid gray;flex-grow: 1;}#sk-container-id-29 div.sk-label:hover label.sk-toggleable__label {background-color: #d4ebff;}#sk-container-id-29 div.sk-serial::before {content: \"\";position: absolute;border-left: 1px solid gray;box-sizing: border-box;top: 0;bottom: 0;left: 50%;z-index: 0;}#sk-container-id-29 div.sk-serial {display: flex;flex-direction: column;align-items: center;background-color: white;padding-right: 0.2em;padding-left: 0.2em;position: relative;}#sk-container-id-29 div.sk-item {position: relative;z-index: 1;}#sk-container-id-29 div.sk-parallel {display: flex;align-items: stretch;justify-content: center;background-color: white;position: relative;}#sk-container-id-29 div.sk-item::before, #sk-container-id-29 div.sk-parallel-item::before {content: \"\";position: absolute;border-left: 1px solid gray;box-sizing: border-box;top: 0;bottom: 0;left: 50%;z-index: -1;}#sk-container-id-29 div.sk-parallel-item {display: flex;flex-direction: column;z-index: 1;position: relative;background-color: white;}#sk-container-id-29 div.sk-parallel-item:first-child::after {align-self: flex-end;width: 50%;}#sk-container-id-29 div.sk-parallel-item:last-child::after {align-self: flex-start;width: 50%;}#sk-container-id-29 div.sk-parallel-item:only-child::after {width: 0;}#sk-container-id-29 div.sk-dashed-wrapped {border: 1px dashed gray;margin: 0 0.4em 0.5em 0.4em;box-sizing: border-box;padding-bottom: 0.4em;background-color: white;}#sk-container-id-29 div.sk-label label {font-family: monospace;font-weight: bold;display: inline-block;line-height: 1.2em;}#sk-container-id-29 div.sk-label-container {text-align: center;}#sk-container-id-29 div.sk-container {/* jupyter's `normalize.less` sets `[hidden] { display: none; }` but bootstrap.min.css set `[hidden] { display: none !important; }` so we also need the `!important` here to be able to override the default hidden behavior on the sphinx rendered scikit-learn.org. See: https://github.com/scikit-learn/scikit-learn/issues/21755 */display: inline-block !important;position: relative;}#sk-container-id-29 div.sk-text-repr-fallback {display: none;}</style><div id=\"sk-container-id-29\" class=\"sk-top-container\"><div class=\"sk-text-repr-fallback\"><pre>RandomForestRegressor(n_estimators=30, random_state=42)</pre><b>In a Jupyter environment, please rerun this cell to show the HTML representation or trust the notebook. <br />On GitHub, the HTML representation is unable to render, please try loading this page with nbviewer.org.</b></div><div class=\"sk-container\" hidden><div class=\"sk-item\"><div class=\"sk-estimator sk-toggleable\"><input class=\"sk-toggleable__control sk-hidden--visually\" id=\"sk-estimator-id-29\" type=\"checkbox\" checked><label for=\"sk-estimator-id-29\" class=\"sk-toggleable__label sk-toggleable__label-arrow\">RandomForestRegressor</label><div class=\"sk-toggleable__content\"><pre>RandomForestRegressor(n_estimators=30, random_state=42)</pre></div></div></div></div></div>"
      ],
      "text/plain": [
       "RandomForestRegressor(n_estimators=30, random_state=42)"
      ]
     },
     "execution_count": 201,
     "metadata": {},
     "output_type": "execute_result"
    }
   ],
   "source": [
    "model_2 = RandomForestRegressor(n_estimators=30, random_state=42)\n",
    "model_2.fit(x_train, y_train)"
   ]
  },
  {
   "cell_type": "code",
   "execution_count": 202,
   "id": "e84c9960-e937-4f83-a239-6a17e765826f",
   "metadata": {},
   "outputs": [
    {
     "name": "stdout",
     "output_type": "stream",
     "text": [
      "The score for training 2: 0.9890852542741649\n",
      "The score for training 2: 0.9313478879924062\n"
     ]
    }
   ],
   "source": [
    "for_traing_2 = model_2.score(x_train, y_train)\n",
    "for_testing_2 = model_2.score(x_test, y_test)\n",
    "print('The score for training 2:', for_traing_2)\n",
    "print('The score for training 2:', for_testing_2)"
   ]
  },
  {
   "cell_type": "code",
   "execution_count": 203,
   "id": "d83a2d7b-5d97-4be8-8c5a-aec0c7002ad2",
   "metadata": {},
   "outputs": [
    {
     "data": {
      "text/html": [
       "<div>\n",
       "<style scoped>\n",
       "    .dataframe tbody tr th:only-of-type {\n",
       "        vertical-align: middle;\n",
       "    }\n",
       "\n",
       "    .dataframe tbody tr th {\n",
       "        vertical-align: top;\n",
       "    }\n",
       "\n",
       "    .dataframe thead th {\n",
       "        text-align: right;\n",
       "    }\n",
       "</style>\n",
       "<table border=\"1\" class=\"dataframe\">\n",
       "  <thead>\n",
       "    <tr style=\"text-align: right;\">\n",
       "      <th></th>\n",
       "      <th>num_of_family_members</th>\n",
       "      <th>num_of_kids_age_7_to_10</th>\n",
       "      <th>family_rule</th>\n",
       "      <th>num_of_smoker_at_house</th>\n",
       "      <th>anual_expence_of_matches</th>\n",
       "    </tr>\n",
       "  </thead>\n",
       "  <tbody>\n",
       "    <tr>\n",
       "      <th>85</th>\n",
       "      <td>9</td>\n",
       "      <td>2</td>\n",
       "      <td>2</td>\n",
       "      <td>1</td>\n",
       "      <td>252</td>\n",
       "    </tr>\n",
       "    <tr>\n",
       "      <th>95</th>\n",
       "      <td>7</td>\n",
       "      <td>3</td>\n",
       "      <td>2</td>\n",
       "      <td>0</td>\n",
       "      <td>216</td>\n",
       "    </tr>\n",
       "    <tr>\n",
       "      <th>98</th>\n",
       "      <td>4</td>\n",
       "      <td>1</td>\n",
       "      <td>0</td>\n",
       "      <td>1</td>\n",
       "      <td>276</td>\n",
       "    </tr>\n",
       "    <tr>\n",
       "      <th>80</th>\n",
       "      <td>9</td>\n",
       "      <td>3</td>\n",
       "      <td>0</td>\n",
       "      <td>4</td>\n",
       "      <td>516</td>\n",
       "    </tr>\n",
       "    <tr>\n",
       "      <th>43</th>\n",
       "      <td>4</td>\n",
       "      <td>0</td>\n",
       "      <td>0</td>\n",
       "      <td>2</td>\n",
       "      <td>276</td>\n",
       "    </tr>\n",
       "  </tbody>\n",
       "</table>\n",
       "</div>"
      ],
      "text/plain": [
       "    num_of_family_members  num_of_kids_age_7_to_10  family_rule  \\\n",
       "85                      9                        2            2   \n",
       "95                      7                        3            2   \n",
       "98                      4                        1            0   \n",
       "80                      9                        3            0   \n",
       "43                      4                        0            0   \n",
       "\n",
       "    num_of_smoker_at_house  anual_expence_of_matches  \n",
       "85                       1                       252  \n",
       "95                       0                       216  \n",
       "98                       1                       276  \n",
       "80                       4                       516  \n",
       "43                       2                       276  "
      ]
     },
     "execution_count": 203,
     "metadata": {},
     "output_type": "execute_result"
    }
   ],
   "source": [
    "df.sample(5)"
   ]
  },
  {
   "cell_type": "code",
   "execution_count": 204,
   "id": "a4fa7be4-d6fa-46f1-b486-c8b3ee7ad1f3",
   "metadata": {},
   "outputs": [
    {
     "name": "stdout",
     "output_type": "stream",
     "text": [
      "Your annual expense of matchs in ($) is : [415.2]\n"
     ]
    },
    {
     "name": "stderr",
     "output_type": "stream",
     "text": [
      "C:\\Users\\PMYLS\\anaconda3\\Lib\\site-packages\\sklearn\\base.py:439: UserWarning: X does not have valid feature names, but StandardScaler was fitted with feature names\n",
      "  warnings.warn(\n"
     ]
    }
   ],
   "source": [
    "input = (7,2,0,3)\n",
    "id_array = np.asarray(input)\n",
    "id_reshaped = id_array.reshape(1,-1)\n",
    "std_data = scaler.transform(id_reshaped)\n",
    "prediction_output = model_2.predict(std_data)\n",
    "print(\"Your annual expense of matchs in ($) is :\", prediction_output)"
   ]
  },
  {
   "cell_type": "code",
   "execution_count": null,
   "id": "737990ef-2d65-4854-beea-57f2067f87e6",
   "metadata": {},
   "outputs": [],
   "source": []
  },
  {
   "cell_type": "code",
   "execution_count": null,
   "id": "acb9d0aa-9b6f-4305-b0e5-8539c9bb692d",
   "metadata": {},
   "outputs": [],
   "source": []
  },
  {
   "cell_type": "code",
   "execution_count": null,
   "id": "24796c22-7e12-4fb5-8717-0b0a4ca9dea6",
   "metadata": {},
   "outputs": [],
   "source": []
  }
 ],
 "metadata": {
  "kernelspec": {
   "display_name": "Python 3 (ipykernel)",
   "language": "python",
   "name": "python3"
  },
  "language_info": {
   "codemirror_mode": {
    "name": "ipython",
    "version": 3
   },
   "file_extension": ".py",
   "mimetype": "text/x-python",
   "name": "python",
   "nbconvert_exporter": "python",
   "pygments_lexer": "ipython3",
   "version": "3.11.5"
  }
 },
 "nbformat": 4,
 "nbformat_minor": 5
}
